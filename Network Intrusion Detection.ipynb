{
 "cells": [
  {
   "cell_type": "code",
   "execution_count": 2,
   "metadata": {},
   "outputs": [],
   "source": [
    "# importing the libraries\n",
    "import numpy as np\n",
    "import pandas as pd\n",
    "import sklearn\n",
    "from sklearn import preprocessing\n",
    "from sklearn.preprocessing import MinMaxScaler\n",
    "\n",
    "# importing the datasets\n",
    "training_data  = pd.read_csv('data/Train_data.csv')\n",
    "test_data = pd.read_csv('data/Test_data.csv')"
   ]
  },
  {
   "attachments": {},
   "cell_type": "markdown",
   "metadata": {},
   "source": [
    "## Preprocessing"
   ]
  },
  {
   "cell_type": "code",
   "execution_count": 3,
   "metadata": {},
   "outputs": [
    {
     "name": "stdout",
     "output_type": "stream",
     "text": [
      "(25192, 42)\n",
      "(22544, 41)\n"
     ]
    }
   ],
   "source": [
    "# checking the shape of the datasets\n",
    "print(training_data.shape)\n",
    "print(test_data.shape)"
   ]
  },
  {
   "cell_type": "code",
   "execution_count": 4,
   "metadata": {},
   "outputs": [
    {
     "data": {
      "text/plain": [
       "duration                       0\n",
       "protocol_type                  0\n",
       "service                        0\n",
       "flag                           0\n",
       "src_bytes                      0\n",
       "dst_bytes                      0\n",
       "land                           0\n",
       "wrong_fragment                 0\n",
       "urgent                         0\n",
       "hot                            0\n",
       "num_failed_logins              0\n",
       "logged_in                      0\n",
       "num_compromised                0\n",
       "root_shell                     0\n",
       "su_attempted                   0\n",
       "num_root                       0\n",
       "num_file_creations             0\n",
       "num_shells                     0\n",
       "num_access_files               0\n",
       "num_outbound_cmds              0\n",
       "is_host_login                  0\n",
       "is_guest_login                 0\n",
       "count                          0\n",
       "srv_count                      0\n",
       "serror_rate                    0\n",
       "srv_serror_rate                0\n",
       "rerror_rate                    0\n",
       "srv_rerror_rate                0\n",
       "same_srv_rate                  0\n",
       "diff_srv_rate                  0\n",
       "srv_diff_host_rate             0\n",
       "dst_host_count                 0\n",
       "dst_host_srv_count             0\n",
       "dst_host_same_srv_rate         0\n",
       "dst_host_diff_srv_rate         0\n",
       "dst_host_same_src_port_rate    0\n",
       "dst_host_srv_diff_host_rate    0\n",
       "dst_host_serror_rate           0\n",
       "dst_host_srv_serror_rate       0\n",
       "dst_host_rerror_rate           0\n",
       "dst_host_srv_rerror_rate       0\n",
       "class                          0\n",
       "dtype: int64"
      ]
     },
     "execution_count": 4,
     "metadata": {},
     "output_type": "execute_result"
    }
   ],
   "source": [
    "# checking missing values \n",
    "training_data.isnull().sum() # no missing values"
   ]
  },
  {
   "cell_type": "code",
   "execution_count": 5,
   "metadata": {},
   "outputs": [
    {
     "name": "stdout",
     "output_type": "stream",
     "text": [
      "duration                       0\n",
      "protocol_type                  0\n",
      "service                        0\n",
      "flag                           0\n",
      "src_bytes                      0\n",
      "dst_bytes                      0\n",
      "land                           0\n",
      "wrong_fragment                 0\n",
      "urgent                         0\n",
      "hot                            0\n",
      "num_failed_logins              0\n",
      "logged_in                      0\n",
      "num_compromised                0\n",
      "root_shell                     0\n",
      "su_attempted                   0\n",
      "num_root                       0\n",
      "num_file_creations             0\n",
      "num_shells                     0\n",
      "num_access_files               0\n",
      "num_outbound_cmds              0\n",
      "is_host_login                  0\n",
      "is_guest_login                 0\n",
      "count                          0\n",
      "srv_count                      0\n",
      "serror_rate                    0\n",
      "srv_serror_rate                0\n",
      "rerror_rate                    0\n",
      "srv_rerror_rate                0\n",
      "same_srv_rate                  0\n",
      "diff_srv_rate                  0\n",
      "srv_diff_host_rate             0\n",
      "dst_host_count                 0\n",
      "dst_host_srv_count             0\n",
      "dst_host_same_srv_rate         0\n",
      "dst_host_diff_srv_rate         0\n",
      "dst_host_same_src_port_rate    0\n",
      "dst_host_srv_diff_host_rate    0\n",
      "dst_host_serror_rate           0\n",
      "dst_host_srv_serror_rate       0\n",
      "dst_host_rerror_rate           0\n",
      "dst_host_srv_rerror_rate       0\n",
      "class                          0\n",
      "dtype: int64\n",
      "duration                       0\n",
      "protocol_type                  0\n",
      "service                        0\n",
      "flag                           0\n",
      "src_bytes                      0\n",
      "dst_bytes                      0\n",
      "land                           0\n",
      "wrong_fragment                 0\n",
      "urgent                         0\n",
      "hot                            0\n",
      "num_failed_logins              0\n",
      "logged_in                      0\n",
      "num_compromised                0\n",
      "root_shell                     0\n",
      "su_attempted                   0\n",
      "num_root                       0\n",
      "num_file_creations             0\n",
      "num_shells                     0\n",
      "num_access_files               0\n",
      "num_outbound_cmds              0\n",
      "is_host_login                  0\n",
      "is_guest_login                 0\n",
      "count                          0\n",
      "srv_count                      0\n",
      "serror_rate                    0\n",
      "srv_serror_rate                0\n",
      "rerror_rate                    0\n",
      "srv_rerror_rate                0\n",
      "same_srv_rate                  0\n",
      "diff_srv_rate                  0\n",
      "srv_diff_host_rate             0\n",
      "dst_host_count                 0\n",
      "dst_host_srv_count             0\n",
      "dst_host_same_srv_rate         0\n",
      "dst_host_diff_srv_rate         0\n",
      "dst_host_same_src_port_rate    0\n",
      "dst_host_srv_diff_host_rate    0\n",
      "dst_host_serror_rate           0\n",
      "dst_host_srv_serror_rate       0\n",
      "dst_host_rerror_rate           0\n",
      "dst_host_srv_rerror_rate       0\n",
      "dtype: int64\n"
     ]
    }
   ],
   "source": [
    "# checking the null values of the datasets\n",
    "print(training_data.isnull().sum())\n",
    "print(test_data.isnull().sum())"
   ]
  },
  {
   "cell_type": "code",
   "execution_count": 6,
   "metadata": {},
   "outputs": [
    {
     "name": "stdout",
     "output_type": "stream",
     "text": [
      "duration                        758\n",
      "protocol_type                     3\n",
      "service                          66\n",
      "flag                             11\n",
      "src_bytes                      1665\n",
      "dst_bytes                      3922\n",
      "land                              2\n",
      "wrong_fragment                    3\n",
      "urgent                            2\n",
      "hot                              22\n",
      "num_failed_logins                 5\n",
      "logged_in                         2\n",
      "num_compromised                  28\n",
      "root_shell                        2\n",
      "su_attempted                      3\n",
      "num_root                         28\n",
      "num_file_creations               20\n",
      "num_shells                        2\n",
      "num_access_files                  7\n",
      "num_outbound_cmds                 1\n",
      "is_host_login                     1\n",
      "is_guest_login                    2\n",
      "count                           466\n",
      "srv_count                       414\n",
      "serror_rate                      70\n",
      "srv_serror_rate                  56\n",
      "rerror_rate                      72\n",
      "srv_rerror_rate                  42\n",
      "same_srv_rate                    97\n",
      "diff_srv_rate                    79\n",
      "srv_diff_host_rate               57\n",
      "dst_host_count                  256\n",
      "dst_host_srv_count              256\n",
      "dst_host_same_srv_rate          101\n",
      "dst_host_diff_srv_rate          101\n",
      "dst_host_same_src_port_rate     101\n",
      "dst_host_srv_diff_host_rate      63\n",
      "dst_host_serror_rate            100\n",
      "dst_host_srv_serror_rate         88\n",
      "dst_host_rerror_rate            101\n",
      "dst_host_srv_rerror_rate        100\n",
      "class                             2\n",
      "dtype: int64\n",
      "duration                        624\n",
      "protocol_type                     3\n",
      "service                          64\n",
      "flag                             11\n",
      "src_bytes                      1149\n",
      "dst_bytes                      3650\n",
      "land                              2\n",
      "wrong_fragment                    3\n",
      "urgent                            4\n",
      "hot                              16\n",
      "num_failed_logins                 5\n",
      "logged_in                         2\n",
      "num_compromised                  23\n",
      "root_shell                        2\n",
      "su_attempted                      3\n",
      "num_root                         20\n",
      "num_file_creations                9\n",
      "num_shells                        4\n",
      "num_access_files                  5\n",
      "num_outbound_cmds                 1\n",
      "is_host_login                     2\n",
      "is_guest_login                    2\n",
      "count                           495\n",
      "srv_count                       457\n",
      "serror_rate                      88\n",
      "srv_serror_rate                  82\n",
      "rerror_rate                      90\n",
      "srv_rerror_rate                  93\n",
      "same_srv_rate                    75\n",
      "diff_srv_rate                    99\n",
      "srv_diff_host_rate               84\n",
      "dst_host_count                  256\n",
      "dst_host_srv_count              256\n",
      "dst_host_same_srv_rate          101\n",
      "dst_host_diff_srv_rate          101\n",
      "dst_host_same_src_port_rate     101\n",
      "dst_host_srv_diff_host_rate      58\n",
      "dst_host_serror_rate             99\n",
      "dst_host_srv_serror_rate        101\n",
      "dst_host_rerror_rate            101\n",
      "dst_host_srv_rerror_rate        100\n",
      "dtype: int64\n"
     ]
    }
   ],
   "source": [
    "# checking the unique values of the datasets\n",
    "print(training_data.nunique())\n",
    "print(test_data.nunique())"
   ]
  },
  {
   "cell_type": "code",
   "execution_count": 7,
   "metadata": {},
   "outputs": [
    {
     "ename": "ModuleNotFoundError",
     "evalue": "No module named 'sklearn'",
     "output_type": "error",
     "traceback": [
      "\u001b[0;31m---------------------------------------------------------------------------\u001b[0m",
      "\u001b[0;31mModuleNotFoundError\u001b[0m                       Traceback (most recent call last)",
      "Cell \u001b[0;32mIn[7], line 2\u001b[0m\n\u001b[1;32m      1\u001b[0m \u001b[39m# normalizing the dataset\u001b[39;00m\n\u001b[0;32m----> 2\u001b[0m \u001b[39mfrom\u001b[39;00m \u001b[39msklearn\u001b[39;00m\u001b[39m.\u001b[39;00m\u001b[39mpreprocessing\u001b[39;00m \u001b[39mimport\u001b[39;00m MinMaxScaler\n\u001b[1;32m      4\u001b[0m scaler \u001b[39m=\u001b[39m MinMaxScaler()\n\u001b[1;32m      5\u001b[0m training_data \u001b[39m=\u001b[39m scaler\u001b[39m.\u001b[39mfit_transform(training_data)\n",
      "\u001b[0;31mModuleNotFoundError\u001b[0m: No module named 'sklearn'"
     ]
    }
   ],
   "source": [
    "# normalizing the dataset\n",
    "\n",
    "scaler = MinMaxScaler()\n",
    "training_data = scaler.fit_transform(training_data)\n",
    "\n"
   ]
  },
  {
   "attachments": {},
   "cell_type": "markdown",
   "metadata": {},
   "source": [
    "## Exploratory Data Analysis"
   ]
  },
  {
   "attachments": {},
   "cell_type": "markdown",
   "metadata": {},
   "source": [
    "## Feature selection"
   ]
  },
  {
   "attachments": {},
   "cell_type": "markdown",
   "metadata": {},
   "source": [
    "## Model training"
   ]
  },
  {
   "attachments": {},
   "cell_type": "markdown",
   "metadata": {},
   "source": [
    "## Model evaluation"
   ]
  }
 ],
 "metadata": {
  "kernelspec": {
   "display_name": ".venv",
   "language": "python",
   "name": "python3"
  },
  "language_info": {
   "codemirror_mode": {
    "name": "ipython",
    "version": 3
   },
   "file_extension": ".py",
   "mimetype": "text/x-python",
   "name": "python",
   "nbconvert_exporter": "python",
   "pygments_lexer": "ipython3",
   "version": "3.10.6 (main, Nov 14 2022, 16:10:14) [GCC 11.3.0]"
  },
  "orig_nbformat": 4,
  "vscode": {
   "interpreter": {
    "hash": "931b56cc6b60d0e751a67210cda33d809b245376614c1ce2eae3a502498bd094"
   }
  }
 },
 "nbformat": 4,
 "nbformat_minor": 2
}
