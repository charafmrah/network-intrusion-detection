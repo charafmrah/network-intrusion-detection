{
 "cells": [
  {
   "attachments": {},
   "cell_type": "markdown",
   "metadata": {},
   "source": [
    "### Basic features of individual TCP connections:\n",
    "* duration:\tlength (number of seconds) of the connection [continuous]\n",
    "* protocol_type: type of the protocol, e.g. tcp, udp, etc. [discrete]\n",
    "* service: network service on the destination, e.g., http, telnet, etc. [discrete]\n",
    "* src_bytes: number of data bytes from source to destination [continuous]\n",
    "* dst_bytes: number of data bytes from destination to source [continuous]\n",
    "* flag: normal or error status of the connection [discrete] \n",
    "* land: 1 if connection is from/to the same host/port; 0 otherwise [discrete]\n",
    "* wrong_fragment: number of \"wrong\" fragments [continuous]\n",
    "* urgent: number of urgent packets [continuous]\n",
    "\n",
    "### Content features within a connection:\n",
    "* hot: number of \"hot\" indicators [continuous]\n",
    "* num_failed_logins: number of failed login attempts [continuous]\n",
    "* logged_in: 1 if successfully logged in; 0 otherwise [discrete]\n",
    "* num_compromised: number of \"compromised\" conditions [continuous]\n",
    "* root_shell: 1 if root shell is obtained; 0 otherwise [discrete]\n",
    "* su_attempted: 1 if \"su root\" command attempted; 0 otherwise [discrete]\n",
    "* num_root: number of \"root\" accesses [continuous]\n",
    "* num_file_creations: number of file creation operations [continuous]\n",
    "* num_shells: number of shell prompts [continuous]\n",
    "* num_access_files: number of operations on access control files [continuous]\n",
    "* num_outbound_cmds: number of outbound commands in an ftp session [continuous]\n",
    "* is_host_login: 1 if the login belongs to the \"hot\" list; 0 otherwise [discrete]\n",
    "* is_guest_login: 1 if the login is a \"guest login\"; 0 otherwise [discrete]\n",
    "\n",
    "#### Traffic features within a connection:\n",
    "* count: number of connections to the same host as the current connection in the past two seconds [continuous]\n",
    "* srv_count: number of connections to the same service as the current connection in the past two seconds [continuous]\n",
    "* serror_rate: % of connections that have \"SYN\" errors [continuous]\n",
    "* srv_serror_rate: % of connections that have \"SYN\" errors [continuous]\n",
    "* rerror_rate: % of connections that have \"REJ\" errors [continuous]\n",
    "* srv_rerror_rate: % of connections that have \"REJ\" errors [continuous]\n",
    "* same_srv_rate: % of connections to the same service [continuous]\n",
    "* diff_srv_rate: % of connections to different services [continuous]\n",
    "* srv_diff_host_rate: % of connections to different hosts [continuous]"
   ]
  },
  {
   "cell_type": "code",
   "execution_count": 17,
   "metadata": {},
   "outputs": [],
   "source": [
    "# importing the libraries\n",
    "import numpy as np\n",
    "import pandas as pd\n",
    "\n",
    "# importing the datasets\n",
    "training_data  = pd.read_csv('data/Train_data.csv')\n",
    "test_data = pd.read_csv('data/Test_data.csv')"
   ]
  },
  {
   "cell_type": "code",
   "execution_count": null,
   "metadata": {},
   "outputs": [],
   "source": []
  }
 ],
 "metadata": {
  "kernelspec": {
   "display_name": "Python 3.10.6 64-bit",
   "language": "python",
   "name": "python3"
  },
  "language_info": {
   "codemirror_mode": {
    "name": "ipython",
    "version": 3
   },
   "file_extension": ".py",
   "mimetype": "text/x-python",
   "name": "python",
   "nbconvert_exporter": "python",
   "pygments_lexer": "ipython3",
   "version": "3.10.6"
  },
  "orig_nbformat": 4,
  "vscode": {
   "interpreter": {
    "hash": "916dbcbb3f70747c44a77c7bcd40155683ae19c65e1c03b4aa3499c5328201f1"
   }
  }
 },
 "nbformat": 4,
 "nbformat_minor": 2
}
